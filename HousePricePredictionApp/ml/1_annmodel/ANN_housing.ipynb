{
  "nbformat": 4,
  "nbformat_minor": 0,
  "metadata": {
    "colab": {
      "provenance": []
    },
    "kernelspec": {
      "name": "python3",
      "display_name": "Python 3"
    },
    "language_info": {
      "name": "python"
    }
  },
  "cells": [
    {
      "cell_type": "markdown",
      "source": [
        "# ANN for House proce prediction - extended to save the pretrained model\n",
        "This notebook extends the functionality of the original model by \"saving final weights to later use as tflite\" and \"integrating with GCP Vertex AI for efficient training\".\n",
        "Original code [link text](https://github.com/Prajwal10031999/House-Price-Prediction-with-ANN)"
      ],
      "metadata": {
        "id": "4Q_JM1p5ry50"
      }
    },
    {
      "cell_type": "code",
      "source": [
        "# Imports\n",
        "import numpy as np\n",
        "import pandas as pd\n"
      ],
      "metadata": {
        "id": "NwL4wgL6tO-N"
      },
      "execution_count": null,
      "outputs": []
    },
    {
      "cell_type": "code",
      "source": [
        "# Upload files to Vertex colab\n",
        "from google.colab import files\n",
        "uploaded = files.upload()"
      ],
      "metadata": {
        "colab": {
          "base_uri": "https://localhost:8080/",
          "height": 39
        },
        "id": "kKUQP6uWr2n-",
        "outputId": "e253d876-c2e4-4351-9b46-a7e1e355debe"
      },
      "execution_count": 2,
      "outputs": [
        {
          "output_type": "display_data",
          "data": {
            "text/plain": [
              "<IPython.core.display.HTML object>"
            ],
            "text/html": [
              "\n",
              "     <input type=\"file\" id=\"files-96566e24-c7d4-46a5-81f3-b58703272fbd\" name=\"files[]\" multiple disabled\n",
              "        style=\"border:none\" />\n",
              "     <output id=\"result-96566e24-c7d4-46a5-81f3-b58703272fbd\">\n",
              "      Upload widget is only available when the cell has been executed in the\n",
              "      current browser session. Please rerun this cell to enable.\n",
              "      </output>\n",
              "      <script>// Copyright 2017 Google LLC\n",
              "//\n",
              "// Licensed under the Apache License, Version 2.0 (the \"License\");\n",
              "// you may not use this file except in compliance with the License.\n",
              "// You may obtain a copy of the License at\n",
              "//\n",
              "//      http://www.apache.org/licenses/LICENSE-2.0\n",
              "//\n",
              "// Unless required by applicable law or agreed to in writing, software\n",
              "// distributed under the License is distributed on an \"AS IS\" BASIS,\n",
              "// WITHOUT WARRANTIES OR CONDITIONS OF ANY KIND, either express or implied.\n",
              "// See the License for the specific language governing permissions and\n",
              "// limitations under the License.\n",
              "\n",
              "/**\n",
              " * @fileoverview Helpers for google.colab Python module.\n",
              " */\n",
              "(function(scope) {\n",
              "function span(text, styleAttributes = {}) {\n",
              "  const element = document.createElement('span');\n",
              "  element.textContent = text;\n",
              "  for (const key of Object.keys(styleAttributes)) {\n",
              "    element.style[key] = styleAttributes[key];\n",
              "  }\n",
              "  return element;\n",
              "}\n",
              "\n",
              "// Max number of bytes which will be uploaded at a time.\n",
              "const MAX_PAYLOAD_SIZE = 100 * 1024;\n",
              "\n",
              "function _uploadFiles(inputId, outputId) {\n",
              "  const steps = uploadFilesStep(inputId, outputId);\n",
              "  const outputElement = document.getElementById(outputId);\n",
              "  // Cache steps on the outputElement to make it available for the next call\n",
              "  // to uploadFilesContinue from Python.\n",
              "  outputElement.steps = steps;\n",
              "\n",
              "  return _uploadFilesContinue(outputId);\n",
              "}\n",
              "\n",
              "// This is roughly an async generator (not supported in the browser yet),\n",
              "// where there are multiple asynchronous steps and the Python side is going\n",
              "// to poll for completion of each step.\n",
              "// This uses a Promise to block the python side on completion of each step,\n",
              "// then passes the result of the previous step as the input to the next step.\n",
              "function _uploadFilesContinue(outputId) {\n",
              "  const outputElement = document.getElementById(outputId);\n",
              "  const steps = outputElement.steps;\n",
              "\n",
              "  const next = steps.next(outputElement.lastPromiseValue);\n",
              "  return Promise.resolve(next.value.promise).then((value) => {\n",
              "    // Cache the last promise value to make it available to the next\n",
              "    // step of the generator.\n",
              "    outputElement.lastPromiseValue = value;\n",
              "    return next.value.response;\n",
              "  });\n",
              "}\n",
              "\n",
              "/**\n",
              " * Generator function which is called between each async step of the upload\n",
              " * process.\n",
              " * @param {string} inputId Element ID of the input file picker element.\n",
              " * @param {string} outputId Element ID of the output display.\n",
              " * @return {!Iterable<!Object>} Iterable of next steps.\n",
              " */\n",
              "function* uploadFilesStep(inputId, outputId) {\n",
              "  const inputElement = document.getElementById(inputId);\n",
              "  inputElement.disabled = false;\n",
              "\n",
              "  const outputElement = document.getElementById(outputId);\n",
              "  outputElement.innerHTML = '';\n",
              "\n",
              "  const pickedPromise = new Promise((resolve) => {\n",
              "    inputElement.addEventListener('change', (e) => {\n",
              "      resolve(e.target.files);\n",
              "    });\n",
              "  });\n",
              "\n",
              "  const cancel = document.createElement('button');\n",
              "  inputElement.parentElement.appendChild(cancel);\n",
              "  cancel.textContent = 'Cancel upload';\n",
              "  const cancelPromise = new Promise((resolve) => {\n",
              "    cancel.onclick = () => {\n",
              "      resolve(null);\n",
              "    };\n",
              "  });\n",
              "\n",
              "  // Wait for the user to pick the files.\n",
              "  const files = yield {\n",
              "    promise: Promise.race([pickedPromise, cancelPromise]),\n",
              "    response: {\n",
              "      action: 'starting',\n",
              "    }\n",
              "  };\n",
              "\n",
              "  cancel.remove();\n",
              "\n",
              "  // Disable the input element since further picks are not allowed.\n",
              "  inputElement.disabled = true;\n",
              "\n",
              "  if (!files) {\n",
              "    return {\n",
              "      response: {\n",
              "        action: 'complete',\n",
              "      }\n",
              "    };\n",
              "  }\n",
              "\n",
              "  for (const file of files) {\n",
              "    const li = document.createElement('li');\n",
              "    li.append(span(file.name, {fontWeight: 'bold'}));\n",
              "    li.append(span(\n",
              "        `(${file.type || 'n/a'}) - ${file.size} bytes, ` +\n",
              "        `last modified: ${\n",
              "            file.lastModifiedDate ? file.lastModifiedDate.toLocaleDateString() :\n",
              "                                    'n/a'} - `));\n",
              "    const percent = span('0% done');\n",
              "    li.appendChild(percent);\n",
              "\n",
              "    outputElement.appendChild(li);\n",
              "\n",
              "    const fileDataPromise = new Promise((resolve) => {\n",
              "      const reader = new FileReader();\n",
              "      reader.onload = (e) => {\n",
              "        resolve(e.target.result);\n",
              "      };\n",
              "      reader.readAsArrayBuffer(file);\n",
              "    });\n",
              "    // Wait for the data to be ready.\n",
              "    let fileData = yield {\n",
              "      promise: fileDataPromise,\n",
              "      response: {\n",
              "        action: 'continue',\n",
              "      }\n",
              "    };\n",
              "\n",
              "    // Use a chunked sending to avoid message size limits. See b/62115660.\n",
              "    let position = 0;\n",
              "    do {\n",
              "      const length = Math.min(fileData.byteLength - position, MAX_PAYLOAD_SIZE);\n",
              "      const chunk = new Uint8Array(fileData, position, length);\n",
              "      position += length;\n",
              "\n",
              "      const base64 = btoa(String.fromCharCode.apply(null, chunk));\n",
              "      yield {\n",
              "        response: {\n",
              "          action: 'append',\n",
              "          file: file.name,\n",
              "          data: base64,\n",
              "        },\n",
              "      };\n",
              "\n",
              "      let percentDone = fileData.byteLength === 0 ?\n",
              "          100 :\n",
              "          Math.round((position / fileData.byteLength) * 100);\n",
              "      percent.textContent = `${percentDone}% done`;\n",
              "\n",
              "    } while (position < fileData.byteLength);\n",
              "  }\n",
              "\n",
              "  // All done.\n",
              "  yield {\n",
              "    response: {\n",
              "      action: 'complete',\n",
              "    }\n",
              "  };\n",
              "}\n",
              "\n",
              "scope.google = scope.google || {};\n",
              "scope.google.colab = scope.google.colab || {};\n",
              "scope.google.colab._files = {\n",
              "  _uploadFiles,\n",
              "  _uploadFilesContinue,\n",
              "};\n",
              "})(self);\n",
              "</script> "
            ]
          },
          "metadata": {}
        }
      ]
    },
    {
      "cell_type": "code",
      "source": [
        "train_data = pd.read_csv('train.csv')\n",
        "test_data = pd.read_csv('test.csv')"
      ],
      "metadata": {
        "id": "B5U50poDtCe0"
      },
      "execution_count": null,
      "outputs": []
    },
    {
      "cell_type": "code",
      "source": [
        "# NN imports\n",
        "# same as original"
      ],
      "metadata": {
        "id": "M3WDmPbEtEEk"
      },
      "execution_count": null,
      "outputs": []
    },
    {
      "cell_type": "code",
      "source": [
        "\n",
        "# Create NN model - same\n",
        "model = Sequential()\n",
        "\n",
        "model.add(Dense(units=256, activation='linear'))\n",
        "model.add(BatchNormalization())\n",
        "model.add(Dense(units=128, activation='linear'))\n",
        "model.add(BatchNormalization())\n",
        "model.add(Dense(units=64, activation='linear'))\n",
        "model.add(BatchNormalization())\n",
        "model.add(Dense(units=32, activation='linear'))\n",
        "model.add(BatchNormalization())\n",
        "model.add(Dense(units=16, activation='linear'))\n",
        "model.add(BatchNormalization())\n",
        "model.add(Dense(units=8, activation='linear'))\n",
        "model.add(BatchNormalization())\n",
        "model.add(Dense(units=1, activation='linear'))\n",
        "\n",
        "model.compile(loss='mean_squared_logarithmic_error',\n",
        "               optimizer='adam')\n",
        "\n",
        "history_model = model.fit(X_train, Train_fey, validation_split=0.2, epochs=1000, batch_size=64, verbose=0)\n",
        "predict = model.predict(X_test, batch_size=64)\n",
        "\n",
        "pred = np.exp(predict).flatten()\n",
        "pred = pd.DataFrame({'Id':Id_final, 'SalePrice':pred})\n",
        "pred['SalePrice'] = pred['SalePrice'].transform(lambda x: (x-1))\n",
        "\n",
        "pred.to_csv('submission.csv', index=False)\n"
      ],
      "metadata": {
        "id": "BV53uSSptET9"
      },
      "execution_count": null,
      "outputs": []
    },
    {
      "cell_type": "code",
      "source": [
        "# Access the trainng loss (error)\n",
        "training_loss = history_model.history['loss']\n",
        "\n",
        "# Access the validation loss (error)\n",
        "validation_loss = history_model.history['val_loss']\n",
        "\n",
        "# Print the training and validation errors\n",
        "print(\"Training Loss:\", training_loss)\n",
        "print(\"Validation Loss:\", validation_loss)"
      ],
      "metadata": {
        "id": "8vbC44M7tElZ"
      },
      "execution_count": null,
      "outputs": []
    },
    {
      "cell_type": "code",
      "source": [
        "# Graph for loss\n",
        "import matplotlib.pyplot as plt\n",
        "plt.plot(history_model.history['loss'])\n",
        "plt.plot(history_model.history['val_loss'])\n",
        "plt.title('Model Loss')\n",
        "plt.ylabel('Loss')\n",
        "plt.xlabel('Epoch')\n",
        "plt.legend(['Train', 'Validation'], loc='upper right')\n",
        "plt.show()"
      ],
      "metadata": {
        "id": "HzBQOvwUvGl9"
      },
      "execution_count": null,
      "outputs": []
    },
    {
      "cell_type": "code",
      "source": [
        "# print the model weights\n",
        "for layer in model.layers:\n",
        "    weights = layer.get_weights()\n",
        "    if weights:    # Check if the layer has weights (some layers might not)\n",
        "      print(\"Layer Name:\", layer.name)\n",
        "      print(\"Weights:\")\n",
        "      print(weights[0])    # Weight matrix\n",
        "      print(\"Biases:\")\n",
        "      print(weights[1])    # Biases vector\n",
        "      print(\"------------------\")"
      ],
      "metadata": {
        "id": "dVNKl69evGqS"
      },
      "execution_count": null,
      "outputs": []
    },
    {
      "cell_type": "code",
      "source": [
        "# save weights\n",
        "model.save_weights('og_model.weights.h5')"
      ],
      "metadata": {
        "id": "QUeWq6OGwKs6"
      },
      "execution_count": null,
      "outputs": []
    },
    {
      "cell_type": "code",
      "source": [
        "# the above mentioned returned an empty file. Here is what worked\n",
        "import h5py\n",
        "def save_weights_to_h5(model, output_file_name):\n",
        "  \"\"\"\n",
        "  Saves weights and biases from a Keras model to an HDF5 file.\n",
        "\n",
        "  Args:\n",
        "      model: A Keras model.\n",
        "      output_file_name: The name of the HDF5 file to save the weights to.\n",
        "\n",
        "  Returns:\n",
        "      None. \"\"\"\n",
        "\n",
        "  with h5py.File(output_file_name, 'w') as outfile:\n",
        "    for i, layer in enumerate(model.layers):\n",
        "      weights = layer.get_weights()\n",
        "      if weights:\n",
        "        layer_group = outfile.create_group(layer.name)\n",
        "        layer_group.create_dataset('weights', data=weights[0])\n",
        "        layer_group.create_dataset('bias', data=weights[1])\n",
        "\n",
        "output_file = 'weights.h5'\n",
        "save_weights_to_h5(model, output_file)"
      ],
      "metadata": {
        "id": "9b-BSq8ZvGvV"
      },
      "execution_count": null,
      "outputs": []
    },
    {
      "cell_type": "code",
      "source": [
        "# Open/Print the H5 file\n",
        "def print_weights_from_h5(file_path):\n",
        "  with h5py.File(file_path, 'r') as f:\n",
        "    for layer_name in f.keys():\n",
        "      layer_data = f(layer_name)\n",
        "      print(\"Layer:\", layer_name)\n",
        "      print(\"  Weight:\")\n",
        "      print(np.array(layer_data['weight']))     # Print the weights\n",
        "      print(\"  Bias:\")\n",
        "      print(np.array(layer_data['bias']))       # Print the biases\n",
        "      print(\"------------------\")\n",
        "\n",
        "file_path = 'weights.h5'\n",
        "print_weights_from_h5(file_path)"
      ],
      "metadata": {
        "id": "jaCPxMsQxvg5"
      },
      "execution_count": null,
      "outputs": []
    },
    {
      "cell_type": "code",
      "source": [
        "# Download the file\n",
        "from google.colab import files\n",
        "files.download('weights.h5')"
      ],
      "metadata": {
        "id": "yMVZ4ax9xvjn"
      },
      "execution_count": null,
      "outputs": []
    },
    {
      "cell_type": "code",
      "source": [],
      "metadata": {
        "id": "LGxX47zmxvmf"
      },
      "execution_count": null,
      "outputs": []
    },
    {
      "cell_type": "code",
      "source": [],
      "metadata": {
        "id": "t3VaXrxExvoY"
      },
      "execution_count": null,
      "outputs": []
    }
  ]
}